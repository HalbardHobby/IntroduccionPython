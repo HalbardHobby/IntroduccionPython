{
 "cells": [
  {
   "cell_type": "markdown",
   "metadata": {},
   "source": [
    "# Funciones"
   ]
  },
  {
   "cell_type": "markdown",
   "metadata": {},
   "source": [
    "Son el método principal de organizar código y reutilizarlo. En ocasiones es necesario repetir la ejecución de un bloque de código. Las funciones abstraen el código y lo hacen más legible."
   ]
  },
  {
   "cell_type": "markdown",
   "metadata": {},
   "source": [
    "Las funciones se declaran con la palabra `def` y retornan resultados con la palabra `return`. En caso de no haber un `return` en la función se retorna `None` por defecto."
   ]
  },
  {
   "cell_type": "code",
   "execution_count": 1,
   "metadata": {},
   "outputs": [],
   "source": [
    "def my_function(x, y, z=1.5):\n",
    "    if z > 1:\n",
    "        return z * (x+y)\n",
    "    else:\n",
    "        return z / (x+y)"
   ]
  },
  {
   "cell_type": "markdown",
   "metadata": {},
   "source": [
    "Cada función puede tener valores por defecto"
   ]
  },
  {
   "cell_type": "code",
   "execution_count": 3,
   "metadata": {},
   "outputs": [
    {
     "data": {
      "text/plain": [
       "45.0"
      ]
     },
     "execution_count": 3,
     "metadata": {},
     "output_type": "execute_result"
    }
   ],
   "source": [
    "my_function(5, 6, z = 0.7)\n",
    "my_function(3.14, 7, 3.5)\n",
    "my_function(x=3.14, y=7, z=3.5)\n",
    "my_function(10, 20)"
   ]
  },
  {
   "cell_type": "markdown",
   "metadata": {},
   "source": [
    "## Namespaces, Scopes & Funciones locales\n",
    "Las funciones pueden acceder a variables en diferentes alcances (scopes): Global, Local y Namespace."
   ]
  },
  {
   "cell_type": "code",
   "execution_count": 10,
   "metadata": {},
   "outputs": [
    {
     "data": {
      "text/plain": [
       "[0, 1, 2, 3, 4]"
      ]
     },
     "execution_count": 10,
     "metadata": {},
     "output_type": "execute_result"
    }
   ],
   "source": [
    "def func_0():\n",
    "    a = []\n",
    "    for i in range(5):\n",
    "        a.append(i)\n",
    "    return a\n",
    "\n",
    "func_0()"
   ]
  },
  {
   "cell_type": "code",
   "execution_count": 13,
   "metadata": {},
   "outputs": [
    {
     "data": {
      "text/plain": [
       "[0, 1, 2, 3, 4]"
      ]
     },
     "execution_count": 13,
     "metadata": {},
     "output_type": "execute_result"
    }
   ],
   "source": [
    "a = []\n",
    "def func_1():\n",
    "    for i in range(5):\n",
    "        a.append(i)\n",
    "    return a\n",
    "\n",
    "func_1()"
   ]
  },
  {
   "cell_type": "code",
   "execution_count": 14,
   "metadata": {},
   "outputs": [
    {
     "data": {
      "text/plain": [
       "[]"
      ]
     },
     "execution_count": 14,
     "metadata": {},
     "output_type": "execute_result"
    }
   ],
   "source": [
    "a = None\n",
    "def cambiar_a():\n",
    "    global a\n",
    "    a = []\n",
    "\n",
    "cambiar_a()\n",
    "a"
   ]
  },
  {
   "cell_type": "markdown",
   "metadata": {},
   "source": [
    "## Retornos múltiples\n",
    "En python es posible retornar múltiples valores"
   ]
  },
  {
   "cell_type": "code",
   "execution_count": 15,
   "metadata": {},
   "outputs": [
    {
     "data": {
      "text/plain": [
       "(0, 1, 2)"
      ]
     },
     "execution_count": 15,
     "metadata": {},
     "output_type": "execute_result"
    }
   ],
   "source": [
    "def f():\n",
    "    return 0, 1, 2\n",
    "f()"
   ]
  },
  {
   "cell_type": "markdown",
   "metadata": {},
   "source": [
    "## Funciones como objetos\n",
    "Python Permite expresar algunas operaciones que son dificiles en otros lenguajes.  \n",
    "**Ejemplo**: Liempieza de datos"
   ]
  },
  {
   "cell_type": "code",
   "execution_count": 29,
   "metadata": {},
   "outputs": [],
   "source": [
    "ciudades = [\n",
    "    ' Bogota', 'BucaraMANGA', 'bogota', 'Bogotá!',\n",
    "    'MEDELLIN', 'santa marta##', 'bogota?'\n",
    "]"
   ]
  },
  {
   "cell_type": "code",
   "execution_count": 31,
   "metadata": {},
   "outputs": [
    {
     "data": {
      "text/plain": [
       "['Bogota',\n",
       " 'Bucaramanga',\n",
       " 'Bogota',\n",
       " 'Bogotá',\n",
       " 'Medellin',\n",
       " 'Santa Marta',\n",
       " 'Bogota']"
      ]
     },
     "execution_count": 31,
     "metadata": {},
     "output_type": "execute_result"
    }
   ],
   "source": [
    "import re\n",
    "\n",
    "def limpiar_strings(strings):\n",
    "    resultado = []\n",
    "    for valor in strings:\n",
    "        valor = valor.strip()\n",
    "        valor = re.sub('[!#?]', '', valor)\n",
    "        valor = valor.title()\n",
    "        resultado.append(valor)\n",
    "    return resultado\n",
    "\n",
    "limpiar_strings(ciudades)"
   ]
  },
  {
   "cell_type": "markdown",
   "metadata": {},
   "source": [
    "Las funciones se pueden pasar como parámetro en otras funciones como `map()`, la cual aplica una función a una secuencia de algún tipo"
   ]
  },
  {
   "cell_type": "code",
   "execution_count": 32,
   "metadata": {},
   "outputs": [
    {
     "data": {
      "text/plain": [
       "['Bogota',\n",
       " 'Bucaramanga',\n",
       " 'Bogota',\n",
       " 'Bogotá',\n",
       " 'Medellin',\n",
       " 'Santa Marta',\n",
       " 'Bogota']"
      ]
     },
     "execution_count": 32,
     "metadata": {},
     "output_type": "execute_result"
    }
   ],
   "source": [
    "def remove_punctuation(valor):\n",
    "    return re.sub('[!#?]', '', valor)\n",
    "\n",
    "operaciones= [str.strip, remove_punctuation, str.title]\n",
    "\n",
    "def limpiar_strings_v2(strings, ops):\n",
    "    resultado = []\n",
    "    for valor in strings:\n",
    "        for operacion in ops:\n",
    "            valor = operacion(valor)\n",
    "        resultado.append(valor)\n",
    "    return resultado\n",
    "\n",
    "limpiar_strings_v2(ciudades, operaciones)"
   ]
  },
  {
   "cell_type": "code",
   "execution_count": 34,
   "metadata": {},
   "outputs": [
    {
     "name": "stdout",
     "output_type": "stream",
     "text": [
      "['', 'B', 'O', 'G', 'O', 'T', 'A']\n",
      "['B', 'U', 'C', 'A', 'R', 'A', 'M', 'A', 'N', 'G', 'A']\n",
      "['B', 'O', 'G', 'O', 'T', 'A']\n",
      "['B', 'O', 'G', 'O', 'T', 'Á', '']\n",
      "['M', 'E', 'D', 'E', 'L', 'L', 'I', 'N']\n",
      "['S', 'A', 'N', 'T', 'A', '', 'M', 'A', 'R', 'T', 'A', '', '']\n",
      "['B', 'O', 'G', 'O', 'T', 'A', '']\n"
     ]
    }
   ],
   "source": [
    "for x in map(limpiar_strings, ciudades):\n",
    "    print(x)"
   ]
  },
  {
   "cell_type": "markdown",
   "metadata": {},
   "source": [
    "### Ejercicio\n",
    "\n",
    "Crear una función que retorne la secuencia de Fibonnacci de los primeros n números."
   ]
  },
  {
   "cell_type": "markdown",
   "metadata": {},
   "source": [
    "## Funciones anónimas\n",
    "También conocidas como funciones lambda. Son una forma de escribir funciones en una sola declaración. El resultado de la declaración es el retorno de la función."
   ]
  },
  {
   "cell_type": "code",
   "execution_count": 35,
   "metadata": {},
   "outputs": [
    {
     "data": {
      "text/plain": [
       "25"
      ]
     },
     "execution_count": 35,
     "metadata": {},
     "output_type": "execute_result"
    }
   ],
   "source": [
    "square = lambda x: x**2\n",
    "square(5)"
   ]
  },
  {
   "cell_type": "markdown",
   "metadata": {},
   "source": [
    "## Currying\n",
    "Está es una funcionalidad propia de los lenguajes funcionales en los cuales una nueva función se crea a partir de aplicación parcial de argumentos."
   ]
  },
  {
   "cell_type": "code",
   "execution_count": 37,
   "metadata": {},
   "outputs": [
    {
     "data": {
      "text/plain": [
       "2.0"
      ]
     },
     "execution_count": 37,
     "metadata": {},
     "output_type": "execute_result"
    }
   ],
   "source": [
    "power = lambda x, y: x**y\n",
    "sqrt = lambda x: power(x, 0.5)\n",
    "\n",
    "sqrt(4)"
   ]
  },
  {
   "cell_type": "markdown",
   "metadata": {},
   "source": [
    "### Ejercicio\n",
    "\n",
    "Cree una función anónima que calcule el pomedio de una lista."
   ]
  },
  {
   "cell_type": "markdown",
   "metadata": {},
   "source": [
    "## Generadores\n",
    "Python pósee una forma consistente de iterar sobre secuencias."
   ]
  },
  {
   "cell_type": "markdown",
   "metadata": {},
   "source": [
    "### Protocolo iterador\n",
    "Una forma genérica de hacer los objetos iterables."
   ]
  },
  {
   "cell_type": "code",
   "execution_count": 1,
   "metadata": {},
   "outputs": [
    {
     "name": "stdout",
     "output_type": "stream",
     "text": [
      "a\n",
      "b\n",
      "c\n"
     ]
    }
   ],
   "source": [
    "d2 = {'a': 1, 'b': 2, 'c': 3}\n",
    "\n",
    "for llave in d2:\n",
    "    print(llave)"
   ]
  },
  {
   "cell_type": "markdown",
   "metadata": {},
   "source": [
    "Al momento de escribir `for llave in d2`, el intérprete crea un iterador sobre el diccionario."
   ]
  },
  {
   "cell_type": "code",
   "execution_count": 3,
   "metadata": {},
   "outputs": [
    {
     "data": {
      "text/plain": [
       "['a', 'b', 'c']"
      ]
     },
     "execution_count": 3,
     "metadata": {},
     "output_type": "execute_result"
    }
   ],
   "source": [
    "iter_d2 = iter(d2)\n",
    "list(iter_d2)"
   ]
  },
  {
   "cell_type": "markdown",
   "metadata": {},
   "source": [
    "### Iterador\n",
    "Es cualquier objeto que entrega objetos al interprete en contextos como ciclos `for`.\n",
    "\n",
    "* Solo puede ser recorrido una vez en un ordén predeterminado.\n",
    "* Los elementos no se almacenan en memoria, son generados en ejecución\n",
    "\n",
    "Un generador es una forma concisa de construir un objeto iterable. Para crearlos se usa la palabra `yield`."
   ]
  },
  {
   "cell_type": "code",
   "execution_count": 4,
   "metadata": {},
   "outputs": [],
   "source": [
    "def cuadrados(n=10):\n",
    "    print('Generando cuadrados de 1 hasta {0}'.format(n**2))\n",
    "    for i in range(1, n+1):\n",
    "        yield i ** 2"
   ]
  },
  {
   "cell_type": "code",
   "execution_count": 7,
   "metadata": {},
   "outputs": [
    {
     "name": "stdout",
     "output_type": "stream",
     "text": [
      "Generando cuadrados de 1 hasta 100\n",
      "1\n",
      "4\n",
      "9\n",
      "16\n",
      "25\n",
      "36\n",
      "49\n",
      "64\n",
      "81\n",
      "100\n"
     ]
    }
   ],
   "source": [
    "generador = cuadrados()\n",
    "for x in generador:\n",
    "    print(str(x)+'\\n', end ='')"
   ]
  },
  {
   "cell_type": "markdown",
   "metadata": {},
   "source": [
    "### Ejercicio\n",
    "\n",
    "Crear un iterador en que cada una de las ejecuciones del iterador retorne el siguiente número de Fibonacci. Ej: 1, 1, 2, 3, 5... "
   ]
  },
  {
   "cell_type": "markdown",
   "metadata": {},
   "source": [
    "### Expresión Generadora\n",
    "Es similar a una lista, diccionario o conjunto por comprensión (pero con paréntesis)"
   ]
  },
  {
   "cell_type": "code",
   "execution_count": 9,
   "metadata": {},
   "outputs": [
    {
     "data": {
      "text/plain": [
       "[0, 1, 4, 9, 16, 25, 36, 49, 64, 81]"
      ]
     },
     "execution_count": 9,
     "metadata": {},
     "output_type": "execute_result"
    }
   ],
   "source": [
    "g_2 = (x ** 2 for x in range(10))\n",
    "list(g_2)"
   ]
  },
  {
   "cell_type": "markdown",
   "metadata": {},
   "source": [
    "Pueden ser usadas como argumentos de funciones en vez de listas"
   ]
  },
  {
   "cell_type": "code",
   "execution_count": 10,
   "metadata": {},
   "outputs": [
    {
     "data": {
      "text/plain": [
       "328350"
      ]
     },
     "execution_count": 10,
     "metadata": {},
     "output_type": "execute_result"
    }
   ],
   "source": [
    "sum(x ** 2 for x in range(100))"
   ]
  },
  {
   "cell_type": "code",
   "execution_count": 11,
   "metadata": {},
   "outputs": [
    {
     "data": {
      "text/plain": [
       "{0: 0, 1: 1, 2: 4, 3: 9, 4: 16}"
      ]
     },
     "execution_count": 11,
     "metadata": {},
     "output_type": "execute_result"
    }
   ],
   "source": [
    "dict((i, i**2) for i in range(5))"
   ]
  },
  {
   "cell_type": "markdown",
   "metadata": {},
   "source": [
    "### Ejercicio\n",
    "\n",
    "Crear un generador que modele una baraja de cartas."
   ]
  }
 ],
 "metadata": {
  "kernelspec": {
   "display_name": "Python 3",
   "language": "python",
   "name": "python3"
  },
  "language_info": {
   "codemirror_mode": {
    "name": "ipython",
    "version": 3
   },
   "file_extension": ".py",
   "mimetype": "text/x-python",
   "name": "python",
   "nbconvert_exporter": "python",
   "pygments_lexer": "ipython3",
   "version": "3.7.3"
  },
  "toc": {
   "base_numbering": 1,
   "nav_menu": {},
   "number_sections": false,
   "sideBar": true,
   "skip_h1_title": false,
   "title_cell": "Table of Contents",
   "title_sidebar": "Contents",
   "toc_cell": false,
   "toc_position": {},
   "toc_section_display": true,
   "toc_window_display": false
  }
 },
 "nbformat": 4,
 "nbformat_minor": 2
}
