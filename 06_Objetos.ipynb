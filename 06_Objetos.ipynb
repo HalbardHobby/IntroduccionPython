{
 "cells": [
  {
   "cell_type": "markdown",
   "metadata": {},
   "source": [
    "# Objetos, Clases & Herencia"
   ]
  },
  {
   "cell_type": "markdown",
   "metadata": {},
   "source": [
    "La programación orientada a objetos es un paradigma de computación dónde cad componente es modelado abstrayendo los elementos del mundo real. Un Objeto es cualquier cosa que posee atributos y puede ejecutar una función.\n",
    "\n",
    "Considerémos un escenario dónde hay que desarrollar un juego."
   ]
  },
  {
   "cell_type": "code",
   "execution_count": 1,
   "metadata": {},
   "outputs": [],
   "source": [
    "class enemigo(object):\n",
    "    vida = 100\n",
    "    \n",
    "    def damage(self, other):\n",
    "        pass"
   ]
  },
  {
   "cell_type": "markdown",
   "metadata": {},
   "source": [
    "## Ventajas y Desventajas\n",
    "* Impulsa la reusabilidad de código. El código encapsulado en clases es más fácil de reutilizar en otros contextos.\n",
    "* La separación de responsabilidades ayuda a la mantenibilidad del código.\n",
    "* El uso estricto de objetos puede generar discuciones filosoficas innecesarias.\n",
    "* Debe tenerse un amplio conocimiento del dominio en cuestión para realizar un modelado efectivo, no todo programa ni entidad es candidato para ser implementado como objeto.\n",
    "* A medida que se añaden más y más clases el programa puede aumentar en complejidad debido a las relaciones entre objetos."
   ]
  },
  {
   "cell_type": "markdown",
   "metadata": {},
   "source": [
    "## Clases\n",
    "Una Clase en programación orientada a objetos sirve como un \"prototipo\" de un objeto. Hay que tener en cuenta la diferencia entre una clase y un objeto.\n",
    "\n",
    "las clases se declaran de la siguiente forma:\n",
    "\n",
    "```python\n",
    "class nombre(object):\n",
    "    expresiones\n",
    "```"
   ]
  },
  {
   "cell_type": "code",
   "execution_count": null,
   "metadata": {},
   "outputs": [],
   "source": []
  }
 ],
 "metadata": {
  "kernelspec": {
   "display_name": "Python 3",
   "language": "python",
   "name": "python3"
  },
  "language_info": {
   "codemirror_mode": {
    "name": "ipython",
    "version": 3
   },
   "file_extension": ".py",
   "mimetype": "text/x-python",
   "name": "python",
   "nbconvert_exporter": "python",
   "pygments_lexer": "ipython3",
   "version": "3.6.7"
  },
  "toc": {
   "base_numbering": 1,
   "nav_menu": {},
   "number_sections": false,
   "sideBar": true,
   "skip_h1_title": false,
   "title_cell": "Table of Contents",
   "title_sidebar": "Contents",
   "toc_cell": false,
   "toc_position": {},
   "toc_section_display": true,
   "toc_window_display": false
  }
 },
 "nbformat": 4,
 "nbformat_minor": 2
}
