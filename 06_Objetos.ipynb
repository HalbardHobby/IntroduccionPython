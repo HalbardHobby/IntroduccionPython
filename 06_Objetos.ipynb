{
 "cells": [
  {
   "cell_type": "markdown",
   "metadata": {},
   "source": [
    "# Objetos, Clases & Herencia"
   ]
  },
  {
   "cell_type": "markdown",
   "metadata": {},
   "source": [
    "La programación orientada a objetos es un paradigma de computación dónde cad componente es modelado abstrayendo los elementos del mundo real. Un Objeto es cualquier cosa que posee atributos y puede ejecutar una función."
   ]
  },
  {
   "cell_type": "markdown",
   "metadata": {},
   "source": [
    "## Ventajas y Desventajas\n",
    "* Impulsa la reusabilidad de código. El código encapsulado en clases es más fácil de reutilizar en otros contextos.\n",
    "* La separación de responsabilidades ayuda a la mantenibilidad del código.\n",
    "* El uso estricto de objetos puede generar discuciones filosoficas innecesarias.\n",
    "* Debe tenerse un amplio conocimiento del dominio en cuestión para realizar un modelado efectivo, no todo programa ni entidad es candidato para ser implementado como objeto.\n",
    "* A medida que se añaden más y más clases el programa puede aumentar en complejidad debido a las relaciones entre objetos."
   ]
  },
  {
   "cell_type": "markdown",
   "metadata": {},
   "source": [
    "## Clases\n",
    "Una Clase en programación orientada a objetos sirve como un \"prototipo\" de un objeto. Hay que tener en cuenta la diferencia entre una clase y un objeto.  \n",
    "las clases se declaran de la siguiente forma:\n",
    "\n",
    "```python\n",
    "class nombre(object):\n",
    "    expresiones\n",
    "```\n",
    "\n",
    "Considerémos un escenario dónde hay que desarrollar un juego. Tenemos una clase que representa los enemigos."
   ]
  },
  {
   "cell_type": "code",
   "execution_count": 3,
   "metadata": {},
   "outputs": [],
   "source": [
    "class Enemigo(object):\n",
    "    pass"
   ]
  },
  {
   "cell_type": "markdown",
   "metadata": {},
   "source": [
    "## Objetos\n",
    "Previamente se mostró que que una clase provee un prototipo. Sin embargo, para poder utilizar los objetos y métodos, es necesario crear un objeto de la clase en cuestión.  \n",
    "Un objeto también es llamado \"instancia\". A este proceso se le llama _\"instanciación\"_.\n",
    "\n",
    "Para crear una instancia en Python usamos la misma sintaxis de las funciones."
   ]
  },
  {
   "cell_type": "code",
   "execution_count": 4,
   "metadata": {},
   "outputs": [],
   "source": [
    "enemigo = Enemigo()"
   ]
  },
  {
   "cell_type": "code",
   "execution_count": 7,
   "metadata": {},
   "outputs": [
    {
     "data": {
      "text/plain": [
       "__main__.Enemigo"
      ]
     },
     "execution_count": 7,
     "metadata": {},
     "output_type": "execute_result"
    }
   ],
   "source": [
    "type(enemigo)"
   ]
  },
  {
   "cell_type": "markdown",
   "metadata": {},
   "source": [
    "## Inicializar Objetos: `__init__()`\n",
    "Un constructor es un método especial que se llama por defecto al momento de instanciar una clase.  \n",
    "para crear un constructor se declara el método `__init__()`"
   ]
  },
  {
   "cell_type": "code",
   "execution_count": 5,
   "metadata": {},
   "outputs": [],
   "source": [
    "class Enemigo(object):\n",
    "    def __init__(self):\n",
    "        self.vida = 100"
   ]
  },
  {
   "cell_type": "markdown",
   "metadata": {},
   "source": [
    "`__init__` es una función como cualquier otra, por lo cual es posible pasar cualquier número de parametros como argumentos."
   ]
  },
  {
   "cell_type": "code",
   "execution_count": 6,
   "metadata": {},
   "outputs": [],
   "source": [
    "class Enemigo(object):\n",
    "    \n",
    "    def __init__(self, vida):\n",
    "        self.vida = vida\n",
    "    \n",
    "    def __init__(self):\n",
    "        self.vida = 100"
   ]
  },
  {
   "cell_type": "markdown",
   "metadata": {},
   "source": [
    "Adicionalmente es posible tener múltiples constructores dentro de la misma clase, mientras la signatura sea diferente entre los diferentes `__init__`"
   ]
  },
  {
   "cell_type": "markdown",
   "metadata": {},
   "source": [
    "## Atributos\n",
    "Los atributos son campos dentro de una clase conteniendo diferentes valores. Básicamente son objetos dentro de objetos. Estos pueden ser declarados como variables dentro del cuerpo de la clase."
   ]
  },
  {
   "cell_type": "code",
   "execution_count": 8,
   "metadata": {},
   "outputs": [],
   "source": [
    "class Enemigo(object):\n",
    "    \n",
    "    vida = 0\n",
    "    \n",
    "    def __init__(self, vida):\n",
    "        self.vida = vida\n",
    "    \n",
    "    def __init__(self):\n",
    "        self.vida = 100"
   ]
  },
  {
   "cell_type": "markdown",
   "metadata": {},
   "source": [
    "En Python cada objeto tiene una serie de atributos y métodos predeterminados en adición a los definidos por el usuario. Mediante la función `dir()` es posible ver todos los nombres disponibles en la clase."
   ]
  },
  {
   "cell_type": "code",
   "execution_count": 9,
   "metadata": {},
   "outputs": [
    {
     "data": {
      "text/plain": [
       "['__class__',\n",
       " '__delattr__',\n",
       " '__dict__',\n",
       " '__dir__',\n",
       " '__doc__',\n",
       " '__eq__',\n",
       " '__format__',\n",
       " '__ge__',\n",
       " '__getattribute__',\n",
       " '__gt__',\n",
       " '__hash__',\n",
       " '__init__',\n",
       " '__init_subclass__',\n",
       " '__le__',\n",
       " '__lt__',\n",
       " '__module__',\n",
       " '__ne__',\n",
       " '__new__',\n",
       " '__reduce__',\n",
       " '__reduce_ex__',\n",
       " '__repr__',\n",
       " '__setattr__',\n",
       " '__sizeof__',\n",
       " '__str__',\n",
       " '__subclasshook__',\n",
       " '__weakref__']"
      ]
     },
     "execution_count": 9,
     "metadata": {},
     "output_type": "execute_result"
    }
   ],
   "source": [
    "dir(enemigo)"
   ]
  },
  {
   "cell_type": "markdown",
   "metadata": {},
   "source": [
    "### Atributos de Clase & Instancia\n",
    "Los atributos tienen 2 categorías principales: los atributos de clase y los de instancia. La diferencia rádica en el acceso. Las variables de instancia como dice su nombre solo pueden ser accesada desde su instancia; en cambio un variable de clase es compartida por todas las instancias de esta misma."
   ]
  },
  {
   "cell_type": "code",
   "execution_count": 11,
   "metadata": {},
   "outputs": [],
   "source": [
    "class Enemigo(object):\n",
    "    \n",
    "    tipo = 'algún tipo'    # Las variables de clase se declaran dentro\n",
    "                           # del cuerpo de la clase\n",
    "    \n",
    "    def __init__(self, vida):\n",
    "        self.vida = vida    # las variables de instancia se declaran dentro\n",
    "                            # de los metodos accediendo a self.\n",
    "    \n",
    "    def __init__(self):\n",
    "        self.vida = 100"
   ]
  },
  {
   "cell_type": "code",
   "execution_count": 12,
   "metadata": {},
   "outputs": [
    {
     "name": "stdout",
     "output_type": "stream",
     "text": [
      "otro tipo\n"
     ]
    }
   ],
   "source": [
    "e1 = Enemigo()\n",
    "Enemigo.tipo = 'otro tipo'\n",
    "\n",
    "print(e1.tipo)"
   ]
  },
  {
   "cell_type": "markdown",
   "metadata": {},
   "source": [
    "## Métodos\n",
    "Los métodos son funciones asociadas a objetos. Para implementarlas simplemente se declara una función dentro del cuerpo de una clase."
   ]
  },
  {
   "cell_type": "code",
   "execution_count": 15,
   "metadata": {},
   "outputs": [],
   "source": [
    "class Enemigo(object):\n",
    "    def hacer_danho(self, other):\n",
    "        print('se hizo danho a ', str(other))"
   ]
  },
  {
   "cell_type": "code",
   "execution_count": 16,
   "metadata": {},
   "outputs": [
    {
     "name": "stdout",
     "output_type": "stream",
     "text": [
      "se hizo danho a  jugador\n"
     ]
    }
   ],
   "source": [
    "e1 = Enemigo()\n",
    "e1.hacer_danho('jugador')"
   ]
  },
  {
   "cell_type": "markdown",
   "metadata": {},
   "source": [
    "### Métodos Estáticos\n",
    "Los métodos estáticos están asociados directamente a la clase, por ende pueden ser llamados sin necesidad de instanciar la clase.  \n",
    "Para crear un método estático se usa el decorador `@staticmethod`"
   ]
  },
  {
   "cell_type": "code",
   "execution_count": 17,
   "metadata": {},
   "outputs": [],
   "source": [
    "class Enemigo(object):\n",
    "    \n",
    "    @staticmethod\n",
    "    def detalles():\n",
    "        print('Esta es una clase de enemigo')\n",
    "    \n",
    "    def hacer_danho(self, other):\n",
    "        print('se hizo danho a ', str(other))"
   ]
  },
  {
   "cell_type": "code",
   "execution_count": 18,
   "metadata": {},
   "outputs": [
    {
     "name": "stdout",
     "output_type": "stream",
     "text": [
      "Esta es una clase de enemigo\n"
     ]
    }
   ],
   "source": [
    "Enemigo.detalles()"
   ]
  },
  {
   "cell_type": "markdown",
   "metadata": {},
   "source": [
    "### Métodos Especiales\n",
    "Previamente se han visto las funciones `len()` y `str()` que retornan valores basados en los objetos; la longitud en caso de `len()` y un `string` en caso de `str()`.  \n",
    "Contrario a lo aparente, la funcionalidad de estas funciones depende de la implementación de funciones especiales en la propias clases"
   ]
  },
  {
   "cell_type": "code",
   "execution_count": 21,
   "metadata": {},
   "outputs": [],
   "source": [
    "class Enemigo(object):\n",
    "    tipo = 'algún tipo'\n",
    "    def __str__(self):\n",
    "        return Enemigo.tipo"
   ]
  },
  {
   "cell_type": "code",
   "execution_count": 22,
   "metadata": {},
   "outputs": [
    {
     "data": {
      "text/plain": [
       "'algún tipo'"
      ]
     },
     "execution_count": 22,
     "metadata": {},
     "output_type": "execute_result"
    }
   ],
   "source": [
    "e1 = Enemigo()\n",
    "str(e1)"
   ]
  },
  {
   "cell_type": "markdown",
   "metadata": {},
   "source": [
    "## Scopes Revisitados"
   ]
  },
  {
   "cell_type": "code",
   "execution_count": null,
   "metadata": {},
   "outputs": [],
   "source": []
  },
  {
   "cell_type": "markdown",
   "metadata": {},
   "source": [
    "### Variables Locales"
   ]
  },
  {
   "cell_type": "code",
   "execution_count": null,
   "metadata": {},
   "outputs": [],
   "source": []
  },
  {
   "cell_type": "markdown",
   "metadata": {},
   "source": [
    "### Variables Globales"
   ]
  },
  {
   "cell_type": "code",
   "execution_count": null,
   "metadata": {},
   "outputs": [],
   "source": []
  },
  {
   "cell_type": "markdown",
   "metadata": {},
   "source": [
    "## Modificadores de acceso"
   ]
  },
  {
   "cell_type": "code",
   "execution_count": null,
   "metadata": {},
   "outputs": [],
   "source": []
  },
  {
   "cell_type": "markdown",
   "metadata": {},
   "source": [
    "## Herencia"
   ]
  },
  {
   "cell_type": "code",
   "execution_count": null,
   "metadata": {},
   "outputs": [],
   "source": []
  },
  {
   "cell_type": "markdown",
   "metadata": {},
   "source": [
    "## Encapsulamiento"
   ]
  },
  {
   "cell_type": "code",
   "execution_count": null,
   "metadata": {},
   "outputs": [],
   "source": []
  },
  {
   "cell_type": "markdown",
   "metadata": {},
   "source": [
    "## Polimorfismo"
   ]
  },
  {
   "cell_type": "code",
   "execution_count": null,
   "metadata": {},
   "outputs": [],
   "source": []
  },
  {
   "cell_type": "markdown",
   "metadata": {},
   "source": [
    "### Sobrecarga de métodos"
   ]
  },
  {
   "cell_type": "code",
   "execution_count": null,
   "metadata": {},
   "outputs": [],
   "source": []
  },
  {
   "cell_type": "markdown",
   "metadata": {},
   "source": [
    "### Anulación de Métodos"
   ]
  },
  {
   "cell_type": "code",
   "execution_count": null,
   "metadata": {},
   "outputs": [],
   "source": []
  },
  {
   "cell_type": "markdown",
   "metadata": {},
   "source": [
    "## Enumeradores"
   ]
  },
  {
   "cell_type": "code",
   "execution_count": null,
   "metadata": {},
   "outputs": [],
   "source": []
  },
  {
   "cell_type": "markdown",
   "metadata": {},
   "source": [
    "## Sobrecarga de Operadores"
   ]
  },
  {
   "cell_type": "code",
   "execution_count": null,
   "metadata": {},
   "outputs": [],
   "source": []
  },
  {
   "cell_type": "markdown",
   "metadata": {},
   "source": [
    "### Operadores Aritméticos"
   ]
  },
  {
   "cell_type": "code",
   "execution_count": null,
   "metadata": {},
   "outputs": [],
   "source": []
  },
  {
   "cell_type": "markdown",
   "metadata": {},
   "source": [
    "### Operadores de comparación"
   ]
  },
  {
   "cell_type": "code",
   "execution_count": null,
   "metadata": {},
   "outputs": [],
   "source": []
  },
  {
   "cell_type": "markdown",
   "metadata": {},
   "source": [
    "### Operadores Binarios"
   ]
  },
  {
   "cell_type": "code",
   "execution_count": null,
   "metadata": {},
   "outputs": [],
   "source": []
  },
  {
   "cell_type": "markdown",
   "metadata": {},
   "source": [
    "### Operadores Unarios"
   ]
  },
  {
   "cell_type": "code",
   "execution_count": null,
   "metadata": {},
   "outputs": [],
   "source": []
  }
 ],
 "metadata": {
  "kernelspec": {
   "display_name": "Python 3",
   "language": "python",
   "name": "python3"
  },
  "language_info": {
   "codemirror_mode": {
    "name": "ipython",
    "version": 3
   },
   "file_extension": ".py",
   "mimetype": "text/x-python",
   "name": "python",
   "nbconvert_exporter": "python",
   "pygments_lexer": "ipython3",
   "version": "3.6.7"
  },
  "toc": {
   "base_numbering": 1,
   "nav_menu": {},
   "number_sections": false,
   "sideBar": true,
   "skip_h1_title": false,
   "title_cell": "Table of Contents",
   "title_sidebar": "Contents",
   "toc_cell": false,
   "toc_position": {},
   "toc_section_display": true,
   "toc_window_display": false
  }
 },
 "nbformat": 4,
 "nbformat_minor": 2
}
